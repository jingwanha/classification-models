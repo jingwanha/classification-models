{
 "cells": [
  {
   "cell_type": "markdown",
   "metadata": {},
   "source": [
    "# FEATURE MAP VISUALIZATION"
   ]
  },
  {
   "cell_type": "markdown",
   "metadata": {},
   "source": [
    "## Import Packages"
   ]
  },
  {
   "cell_type": "code",
   "execution_count": null,
   "metadata": {},
   "outputs": [],
   "source": [
    "from keras.preprocessing import image\n",
    "import numpy as np\n",
    "import matplotlib.pyplot as plt\n",
    "from keras import models\n",
    "import keras\n",
    "\n",
    "import os\n",
    "os.environ['CUDA_VISIBLE_DEVICES']='99'"
   ]
  },
  {
   "cell_type": "code",
   "execution_count": null,
   "metadata": {},
   "outputs": [],
   "source": [
    "from keras.applications.nasnet import NASNetLarge\n",
    "from keras.applications.resnet50 import ResNet50\n",
    "\n",
    "# model_nas = NASNetLarge(weights='imagenet')\n",
    "# model_res = ResNet50(weights='imagenet')"
   ]
  },
  {
   "cell_type": "code",
   "execution_count": null,
   "metadata": {},
   "outputs": [],
   "source": [
    "# 이미지 로드\n",
    "img_path = './sample_imgs/cat_dog.png'\n",
    "\n",
    "img = image.load_img(img_path, target_size=(331,331))\n",
    "img_tensor = image.img_to_array(img)\n",
    "img_tensor = np.expand_dims(img_tensor,axis=0)\n",
    "img_tensor /= 255."
   ]
  },
  {
   "cell_type": "code",
   "execution_count": null,
   "metadata": {},
   "outputs": [],
   "source": [
    "# 모델 로드\n",
    "model_path = './logs/diebonder/logs_200210/NASNetLarge/train_best.h5'\n",
    "model = models.load_model(model_path)"
   ]
  },
  {
   "cell_type": "markdown",
   "metadata": {},
   "source": [
    "## Feature map 시각화"
   ]
  },
  {
   "cell_type": "code",
   "execution_count": null,
   "metadata": {},
   "outputs": [],
   "source": [
    "activaction_layers = []\n",
    "for l in layers:\n",
    "    if isinstance(l,keras.layers.Activation):\n",
    "        activaction_layers.append(l)\n",
    "        \n",
    "layer_outputs = [model.layers[0].layers[-2].output]\n",
    "activation_model = models.Model(inputs=model.layers[0].get_input_at(0), outputs= layer_outputs)\n",
    "\n",
    "activations = activation_model.predict(img_tensor)\n",
    "print (len(activactions))"
   ]
  },
  {
   "cell_type": "code",
   "execution_count": null,
   "metadata": {},
   "outputs": [],
   "source": [
    "activaction_layers = []\n",
    "layer_names = []\n",
    "layer_outputs = []\n",
    "\n",
    "for l in layers:\n",
    "    if isinstance(l,keras.layers.Activation):\n",
    "        activaction_layers.append(l)\n",
    "        layer_outputs.append(l.output)\n",
    "        layer_names.append(l.name)\n",
    "        \n",
    "activation_model = models.Model(inputs=model.layers[0].get_input_at(0), outputs= layer_outputs)\n",
    "activactions = activation_model.predict(img_tensor)"
   ]
  },
  {
   "cell_type": "code",
   "execution_count": null,
   "metadata": {},
   "outputs": [],
   "source": [
    "# feature map 출력\n",
    "images_per_row = 16\n",
    "\n",
    "for layer_name, activaction_layer in zip(layer_names, activactions):\n",
    "    n_features = activaction_layer.shape[-1]\n",
    "    size = activaction_layer.shape[1]\n",
    "    \n",
    "    n_cols = n_features // images_per_row\n",
    "    dp_grid = np.zeros((size*n_cols, images_per_row*size))\n",
    "    \n",
    "    for col in range(n_cols):\n",
    "        for row in range(images_per_row):\n",
    "            channel_image = activaction_layer[0,:,:,col*images_per_row+row]\n",
    "            \n",
    "            channel_image -= channel_image.mean()\n",
    "            channel_image /= channel_image.std()\n",
    "            channel_image *= 64\n",
    "            channel_image += 128\n",
    "            channel_image = np.clip(channel_image,0,255).astype('uint8')\n",
    "            \n",
    "            dp_grid[col*size : (col+1)*size,\n",
    "                    row*size : (row+1)*size] = channel_image\n",
    "            \n",
    "    scale = 1./size\n",
    "    plt.figure(figsize = (scale*dp_grid.shape[1],\n",
    "                          scale*dp_grid.shape[0]))\n",
    "            \n",
    "    plt.title(layer_name)\n",
    "    plt.grid(False)\n",
    "    plt.imshow(dp_grid,aspect='auto', cmap='viridis')\n",
    "plt.show()"
   ]
  },
  {
   "cell_type": "code",
   "execution_count": null,
   "metadata": {},
   "outputs": [],
   "source": []
  }
 ],
 "metadata": {
  "kernelspec": {
   "display_name": "dl_env",
   "language": "python",
   "name": "dl_tutorials"
  },
  "language_info": {
   "codemirror_mode": {
    "name": "ipython",
    "version": 3
   },
   "file_extension": ".py",
   "mimetype": "text/x-python",
   "name": "python",
   "nbconvert_exporter": "python",
   "pygments_lexer": "ipython3",
   "version": "3.7.9"
  }
 },
 "nbformat": 4,
 "nbformat_minor": 4
}
